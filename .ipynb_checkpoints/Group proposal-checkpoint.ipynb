{
 "cells": [
  {
   "cell_type": "markdown",
   "id": "c85e8911-da21-428b-9ac7-d77d7af0e668",
   "metadata": {},
   "source": [
    "## Group Proposal"
   ]
  },
  {
   "cell_type": "code",
   "execution_count": null,
   "id": "4e43e215-6569-49ec-b408-357e560d0fe5",
   "metadata": {},
   "outputs": [],
   "source": []
  }
 ],
 "metadata": {
  "kernelspec": {
   "display_name": "R",
   "language": "R",
   "name": "ir"
  },
  "language_info": {
   "codemirror_mode": "r",
   "file_extension": ".r",
   "mimetype": "text/x-r-source",
   "name": "R",
   "pygments_lexer": "r",
   "version": "4.1.3"
  }
 },
 "nbformat": 4,
 "nbformat_minor": 5
}
