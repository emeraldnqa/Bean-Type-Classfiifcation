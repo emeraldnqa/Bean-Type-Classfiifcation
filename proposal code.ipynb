{
 "cells": [
  {
   "cell_type": "markdown",
   "id": "780f7177",
   "metadata": {},
   "source": [
    "# Bean Classification Project Proposal "
   ]
  },
  {
   "cell_type": "code",
   "execution_count": null,
   "id": "31c75def",
   "metadata": {},
   "outputs": [],
   "source": [
    "#import libraries\n",
    "install.packages(\"themis\")\n",
    "library(tidyverse)\n",
    "library(repr)\n",
    "library(tidymodels)\n",
    "options(repr.matrix.max.rows = 16)\n",
    "library(readxl)"
   ]
  },
  {
   "cell_type": "code",
   "execution_count": null,
   "id": "aabf072f-15c9-47fd-bf2e-ccad20ee4dea",
   "metadata": {},
   "outputs": [],
   "source": [
    "library(themis)"
   ]
  },
  {
   "cell_type": "markdown",
   "id": "e3be4dab",
   "metadata": {},
   "source": [
    "# Introduction\n",
    "\n",
    "This data set was extracted from the article written by Kolku and Ozkan, “Multiclass classification of dry beans using computer vision and machine learning techniques” (2020). Koluk and Ozkan (2020) explore the use of computer vision and machine learning techniques to classify dry beans into different classes. The goal of the study was to use machine learning algorithms to accurately classify the dry beans into their respective varieties based on the extracted features. This study is relevant for the food industry and agriculture, as it can potentially help in automating the classification process of dry beans, which is currently done manually and is time-consuming.\n",
    "\n",
    "**Research Question**: Can we determine the bean type in an image based on its dimensional features?\n",
    "\n",
    "This dataset is based on 13611 images of 7 types of individual dry beans with similar features. Each image was analyzed for 16 features of the bean (4 \"shape factors\", 12 structural/geometric features) (Kolku & Ozkan, 2020).\n",
    "\n",
    "The most effective dimensional features in the dataset, are called: \"Area\", \"Perimeter\", \"Major Axis Length\", \"Minor Axis Length\", \"Aspect Ratio\", \"Eccentricity\", \"Convex Area\", \"Equivalent Diameter\", \"Extent\", \"Solidity\", \"Roundness\", \"Compactness\". We will be using the K-nearest neighbours classification to predict \"Class\" using the mentioned predictors. K-nearest neighbours find the K-closest data points to the input sample and assign the most common class label among them. The accuracy of the model can be improved by tuning the value of K.\n",
    "\n",
    "\n",
    "Our variable of intetrest (Kolku & Ozkan, 2020).:\n",
    "- **Area**:The area of a bean zone and the number of pixels within its boundaries.\n",
    "- **Perimeter**: Bean circumference is defined as the length of its border.\n",
    "- **Major Axis Length**: The distance of the longest line that can be drawn on the bean\n",
    "- **Minor Axis Length**: The longest line that can be drawn on the bean while standing perpendicular to the axis\n",
    "- **Aspect Ratio**: The relationship between the Major Axis Length and the Minor Axis Length\n",
    "- **Eccentricity**: Eccentricity of the ellipse having the same moments as the region.\n",
    "- **Convex Area**: Number of pixels in the smallest convex polygon that can contain the area of a bean seed.\n",
    "- **Equivalent Diameter**: The diameter of a circle that has the same area as the bean area\n",
    "- **Solidity**: The ratio of the pixels in the convex shell to those found in beans.\n",
    "- **Extent**: The ratio of the pixels in the bounding box to the bean area.\n",
    "- **Roundess**: Calculated with the following formula: (4piA)/(P^2). Where A is the area and P is the perimeter of the bean\n",
    "- **Compactness**: Roundness of the bean in measurement"
   ]
  },
  {
   "cell_type": "markdown",
   "id": "dad0a087",
   "metadata": {},
   "source": [
    "# Methods"
   ]
  },
  {
   "cell_type": "markdown",
   "id": "4446a1c8-968a-4cd2-8849-e16a2329e7aa",
   "metadata": {},
   "source": [
    "**Load Data**: A zip file was loaded from the original web source (https). Then, tempfile () was used to ... \n"
   ]
  },
  {
   "cell_type": "code",
   "execution_count": null,
   "id": "dc02201e",
   "metadata": {},
   "outputs": [],
   "source": [
    "beanurl<-\"https://archive.ics.uci.edu/ml/machine-learning-databases/00602/DryBeanDataset.zip\"\n",
    "temp <- tempfile()\n",
    "download.file(beanurl,temp)\n",
    "beanzip <- unzip(temp, \"DryBeanDataset/Dry_Bean_Dataset.xlsx\")\n",
    "bean <- read_excel(beanzip)\n",
    "bean"
   ]
  },
  {
   "cell_type": "markdown",
   "id": "b61ee2bd",
   "metadata": {},
   "source": [
    "**Select variables & data wrangling & cleaning**: After exploring the data and doing research, we will select two variables for prediction: roundness and area. BECAUSE.... \n",
    "The \"Class\" column was also converted to a factor type for this classification model. "
   ]
  },
  {
   "cell_type": "code",
   "execution_count": null,
   "id": "331ce777",
   "metadata": {},
   "outputs": [],
   "source": [
    "select_bean_var <- bean |>\n",
    "                select(\"Area\",\"roundness\",\"Class\")|>\n",
    "                mutate(Class = as.factor(Class))\n",
    "select_bean_var "
   ]
  },
  {
   "cell_type": "markdown",
   "id": "e85aca7e-63b1-4254-b522-620de4b2845f",
   "metadata": {},
   "source": [
    "**Visualize plot**: all of the bean types, in relation to roundness and area, are plotted on the graph. "
   ]
  },
  {
   "cell_type": "code",
   "execution_count": null,
   "id": "00fced6e-6c47-4dcd-a989-494ee24c6b81",
   "metadata": {},
   "outputs": [],
   "source": [
    "bean_plot <- select_bean_var |>\n",
    "  ggplot(aes(x = Area, y = roundness, color = Class)) +\n",
    "  geom_point(size = 0.2) +\n",
    "  labs(x = \"Area\", \n",
    "       y = \"Roundness\",\n",
    "       color = \"Type\") +\n",
    "  theme(text = element_text(size = 12))\n",
    "bean_plot"
   ]
  },
  {
   "cell_type": "markdown",
   "id": "6751431a-9e28-4583-953d-96ab02276926",
   "metadata": {},
   "source": [
    "As shown on the graph, Barbunya has a lack of clustering that causes too many overlaps. This may result in an inaccurate model. Thus, we will remove the Class Barbunva. which will enable the KNN model to better distinguish between the remaining classes, ultimately improving the overall accuracy of the model."
   ]
  },
  {
   "cell_type": "code",
   "execution_count": null,
   "id": "1e201e08-ed42-4e10-8f37-9bb8f8c0d882",
   "metadata": {},
   "outputs": [],
   "source": [
    "select_bean <- filter(select_bean_var, \n",
    "                      Class != \"BARBUNYA\")\n"
   ]
  },
  {
   "cell_type": "code",
   "execution_count": null,
   "id": "2c899e66-d3fe-4779-b4e8-f17fe318c7ab",
   "metadata": {},
   "outputs": [],
   "source": [
    "bean_plot2 <- select_bean |>\n",
    "  ggplot(aes(x = Area, y = roundness, color = Class)) +\n",
    "  geom_point(size = 0.2) +\n",
    "  labs(x = \"Area\", \n",
    "       y = \"Roundness\",\n",
    "       color = \"Type\") +\n",
    "  theme(text = element_text(size = 12))\n",
    "bean_plot2"
   ]
  },
  {
   "cell_type": "markdown",
   "id": "763198c4-020a-44f5-b57b-f200377343cb",
   "metadata": {},
   "source": [
    "We graph it again, and we can see that the clusters are more clean."
   ]
  },
  {
   "cell_type": "code",
   "execution_count": null,
   "id": "930fa6a1",
   "metadata": {},
   "outputs": [],
   "source": [
    "##Creating training and testing dataset\n",
    "\n",
    "set.seed(2022)\n",
    "bean_split <- initial_split(select_bean, prop = 0.75, strata = Class)\n",
    "bean_train <- training(bean_split)\n",
    "bean_test <- testing(bean_split)"
   ]
  },
  {
   "cell_type": "markdown",
   "id": "3971d72c",
   "metadata": {},
   "source": [
    "Graphing the training dataset in plot point"
   ]
  },
  {
   "cell_type": "code",
   "execution_count": null,
   "id": "953a0065",
   "metadata": {},
   "outputs": [],
   "source": [
    "#Graphing the training dataset\n",
    "\n",
    "area_round_plot <- bean_train |>\n",
    "  ggplot(aes(x = Area, y = roundness, color = Class)) +\n",
    "  geom_point(size = 0.2) +\n",
    "  labs(x = \"Area\", \n",
    "       y = \"Roundness\",\n",
    "       color = \"Type\") +\n",
    "  theme(text = element_text(size = 12))\n",
    "area_round_plot"
   ]
  },
  {
   "cell_type": "markdown",
   "id": "58ddf691",
   "metadata": {},
   "source": [
    "From the point plot of the area vs roundness observation above, we can see that there are big difference between area value and the roundness value, therefore, we will scale the data, which will be dealt with in `workflow()` "
   ]
  },
  {
   "cell_type": "code",
   "execution_count": null,
   "id": "40c055da",
   "metadata": {},
   "outputs": [],
   "source": [
    "#Summarize training dataset\n",
    "bean_class_dist <- bean_train |>\n",
    "                group_by(Class)|>\n",
    "                summarize(count = n()) |>\n",
    "                mutate(percentage_dist = 100*count/nrow(bean_train))\n",
    "bean_class_dist"
   ]
  },
  {
   "cell_type": "markdown",
   "id": "756e4642",
   "metadata": {},
   "source": [
    "The table, and bar chart show us the distribution of bean types in the training set"
   ]
  },
  {
   "cell_type": "code",
   "execution_count": null,
   "id": "4877e4e6",
   "metadata": {},
   "outputs": [],
   "source": [
    "bean_class_dist_plot <- bean_class_dist |>\n",
    "                        ggplot(aes(x=Class, y = count))+\n",
    "                        geom_bar(stat = \"identity\")+\n",
    "                        labs(x= \"Type of beans\",\n",
    "                             y = \"Number of beans\")+\n",
    "                        ggtitle(\"Distribution of bean type in the training dataset\")+\n",
    "                        theme(text = element_text(size = 12))\n",
    "bean_class_dist_plot"
   ]
  },
  {
   "cell_type": "markdown",
   "id": "bbdcc8b2",
   "metadata": {},
   "source": [
    "**Upsampling**: By looking at the table viewing the total number of datapoints for each type of beans, we can see that there are a big difference in number of datapoints between Dermason bean type with other type of beans. Therefore, we will upsample the training dataset so that each Class of bean has a voting power when it comes to the classfication of the testing dataset.\n",
    "\n",
    "**Scaling:** all data is called to avoid features with large values dominating the decision process. Then the scaled data is plotted again."
   ]
  },
  {
   "cell_type": "code",
   "execution_count": null,
   "id": "c1616d5e",
   "metadata": {},
   "outputs": [],
   "source": [
    "## Scalling all data:\n",
    "\n",
    "bean_data_training_scaled_recipe <- recipe(Class ~., data = bean_train) |>\n",
    "                        step_upsample(Class)|>\n",
    "                        prep()\n",
    "\n",
    "final_bean_data <- bake(bean_data_training_scaled_recipe, bean_train)\n",
    "\n",
    "area_round_plot_scaled <- final_bean_data |>\n",
    "  ggplot(aes(x = Area, y = roundness, color = Class)) +\n",
    "  geom_point(size = 0.2) +\n",
    "  labs(x = \"Area (Standardized)\", \n",
    "       y = \"Roundness (Standardized)\",\n",
    "       color = \"Type\") +\n",
    "  theme(text = element_text(size = 12))\n",
    "area_round_plot_scaled"
   ]
  },
  {
   "cell_type": "markdown",
   "id": "48e17637",
   "metadata": {},
   "source": [
    "Summary of the data set: Next we will look at Statistical distribution of our chosen variables, in table and boxplot form. We calculated the basic statistics such as range and standard deviation for each feature, as well as determining the distribution. \n"
   ]
  },
  {
   "cell_type": "code",
   "execution_count": null,
   "id": "07d0d7df",
   "metadata": {},
   "outputs": [],
   "source": [
    "#Statistical Distribution of predictor based on class\n",
    "features_dist_by_class <- final_bean_data |>\n",
    "                group_by(Class)|>\n",
    "                summarize(max_area = max(Area, na.rm = TRUE),\n",
    "                          min_area = min(Area, na.rm = TRUE),\n",
    "                          std_dev_area = sd(Area, na.rm = TRUE),\n",
    "                          max_roundness = max(roundness, na.rm = TRUE),\n",
    "                          min_roundness = min(roundness, na.rm = TRUE),\n",
    "                         std_dev_roundness = sd(roundness, na.rm = TRUE))\n",
    "features_dist_by_class"
   ]
  },
  {
   "cell_type": "code",
   "execution_count": null,
   "id": "fb058cef",
   "metadata": {},
   "outputs": [],
   "source": [
    "#Statistical Distribution in Features of varieties of dry bean\n",
    "features_dist <- bean_train |>\n",
    "            select(Area,roundness) |>\n",
    "            pivot_longer(cols= Area:roundness,\n",
    "                         names_to = \"Features\",\n",
    "                         values_to = \"values\") |>\n",
    "            group_by(Features) |>\n",
    "            summarize(Mean = mean(values, na.rm = TRUE),\n",
    "                      Min = min(values, na.rm = TRUE),\n",
    "                      Max = max(values, na.rm = TRUE),\n",
    "                     Std_Deviation = sd(values, na.rm = TRUE))\n",
    "features_dist"
   ]
  },
  {
   "cell_type": "code",
   "execution_count": null,
   "id": "edf1954e",
   "metadata": {},
   "outputs": [],
   "source": [
    "#Graphing area distribution for each type of bean\n",
    "area_box_plot <- final_bean_data |>\n",
    "                ggplot(aes(x = Class, y = Area))+\n",
    "                geom_boxplot()+\n",
    "                xlab(\"Type of beans\")+\n",
    "                ylab(\"Area\")+\n",
    "                ggtitle(\"Area Distribution for each type of bean\")+\n",
    "                coord_flip()\n",
    "area_box_plot"
   ]
  },
  {
   "cell_type": "code",
   "execution_count": null,
   "id": "8cd7c8e0",
   "metadata": {},
   "outputs": [],
   "source": [
    "#Graphing box plot showing roundness distribution for each type of box plot\n",
    "roundness_box_plot <- final_bean_data |>\n",
    "                ggplot(aes(x = Class, y = roundness))+\n",
    "                geom_boxplot()+\n",
    "                xlab(\"Type of beans\")+\n",
    "                ylab(\"Roundess\")+\n",
    "                ggtitle(\"Roundness distribution for each type of bean\")+\n",
    "                coord_flip()\n",
    "roundness_box_plot"
   ]
  },
  {
   "cell_type": "markdown",
   "id": "765d3350",
   "metadata": {},
   "source": [
    "# Building the Classification Model"
   ]
  },
  {
   "cell_type": "code",
   "execution_count": null,
   "id": "5445092e",
   "metadata": {},
   "outputs": [],
   "source": [
    "set.seed(2022) # DO NOT REMOVE\n",
    "\n",
    "bean_report_recipe <- recipe(Class ~ ., data = final_bean_data) |>\n",
    "    step_scale(all_predictors()) |>\n",
    "    step_center(all_predictors())\n",
    "bean_report_recipe\n",
    "\n",
    "knn_spec <- nearest_neighbor(weight_func = \"rectangular\", neighbors = tune()) |>\n",
    "  set_engine(\"kknn\") |>\n",
    "  set_mode(\"classification\")\n",
    "\n",
    "bean_vfold <- vfold_cv(final_bean_data, v = 10, strata = Class)\n",
    "gridvals <- tibble(neighbors = seq(1,40,by=1))\n",
    "\n",
    "knn_results <- workflow() |>\n",
    "  add_recipe(bean_report_recipe) |>\n",
    "  add_model(knn_spec) |>\n",
    "  tune_grid(resamples = bean_vfold, grid = gridvals) |>\n",
    "  collect_metrics() |>\n",
    "  filter(.metric == \"accuracy\")"
   ]
  },
  {
   "cell_type": "code",
   "execution_count": null,
   "id": "dee6c445-6125-4541-a594-ea3b1ab2b879",
   "metadata": {},
   "outputs": [],
   "source": [
    "options(repr.plot.width = 12, repr.plot.height = 7)\n",
    "\n",
    "# Plot k values against their respective accuracies and choose optimal k value\n",
    "cross_val_plot <- knn_results |> \n",
    "    ggplot(aes(x = neighbors, y = mean)) +\n",
    "    geom_point() +\n",
    "    geom_line() +\n",
    "    labs(x = \"Neighbors\", y = \"Accuracy Estimate\") +\n",
    "    scale_x_continuous(breaks = seq(0,40, by = 1))\n",
    "cross_val_plot"
   ]
  },
  {
   "cell_type": "markdown",
   "id": "3fab009f-c456-4b35-9290-7f34299f52cc",
   "metadata": {},
   "source": [
    "From the graph above we can see that with such a large dataset like the bean dataset, large number of neighbour is required to predict the data accurately. \n",
    "\n",
    "However, running cross validation for such a large dataset and large number of neighbors take a lot of time, and money, so we decided only estimate accuracies of different number of neighbors up until 45 neighbors. And it is clear that after 27 neighbours, the accuracies of different number of neighbors decreases, and the accuracies keeps decreasing until 40 neighbors, so we suspect that it will still decrease into 50 and 100 neighbors. \n",
    "\n",
    "From the graph we can see that the highest accuracies is around 25-27 neighbours. And we see that around 25 neighbors is good since the 26 neighbours, and 24 neighbours, the accuracies aren't that much different from the 25 neighbours. "
   ]
  },
  {
   "cell_type": "markdown",
   "id": "9f1a1c54-eb30-4c88-af63-6bb1f2265e3d",
   "metadata": {},
   "source": [
    "Visualizations of the analysis: a confusion matrix is shown below to help interpret the results and communicate the findings effectively.\n"
   ]
  },
  {
   "cell_type": "code",
   "execution_count": null,
   "id": "6d7e8d60-a297-4978-ba7d-ef528d0d6064",
   "metadata": {},
   "outputs": [],
   "source": [
    "knn_best_spec <- nearest_neighbor(weight_func = \"rectangular\", neighbors = 25) |>\n",
    "  set_engine(\"kknn\") |>\n",
    "  set_mode(\"classification\")\n",
    "\n",
    "bean_fit <- workflow() |>\n",
    "  add_recipe(bean_report_recipe) |>\n",
    "  add_model(knn_best_spec) |>\n",
    "  fit(data = final_bean_data)\n",
    "  \n",
    "##(8)##\n",
    "# Get the prediction column\n",
    "bean_predictions <- predict(bean_fit, bean_test) |> \n",
    "    bind_cols(bean_test)\n",
    "\n",
    "# Compare the accuracy of predictions to the true values in the test set\n",
    "bean_acc <- bean_predictions |> \n",
    "    metrics(truth = Class, estimate = .pred_class) |> \n",
    "    select(.metric, .estimate) |> \n",
    "    head(1)\n",
    "\n",
    "# Compare the predictions to the true values in a confusion matrix\n",
    "bean_cm <- bean_predictions |> \n",
    "    conf_mat(truth = Class, estimate = .pred_class)\n",
    "bean_acc\n",
    "bean_cm"
   ]
  },
  {
   "cell_type": "code",
   "execution_count": null,
   "id": "d827405f-3648-46b8-9185-a2f8ad1d864c",
   "metadata": {
    "tags": []
   },
   "outputs": [],
   "source": [
    "#visual comparison of true class vs predicted class\n",
    "library(ggplot2)\n",
    "library(cowplot)\n",
    "\n",
    "bean_predictions_plot <- bean_predictions |>\n",
    "    ggplot(aes(x = Area, y = roundness, color = .pred_class)) +\n",
    "    geom_point() +\n",
    "    labs(x = \"Area of Bean (Standardized)\", y = \"Roundness of Bean (standardized)\", color = \"Type of Bean\") +\n",
    "    ggtitle(\"Predictions of Bean Type\")\n",
    "\n",
    "bean_trueclass_plot <- bean_predictions |>\n",
    "    ggplot(aes(x = Area, y = roundness, color = Class)) +\n",
    "    geom_point() +\n",
    "    labs(x = \"Area of Bean (Standardized)\", y = \"Roundness of Bean (standardized)\", color = \"Type of Bean\") +\n",
    "    ggtitle(\"True Class of Beans\")\n",
    "\n",
    "plot_grid(bean_predictions_plot, bean_trueclass_plot, ncol = 2)"
   ]
  },
  {
   "cell_type": "markdown",
   "id": "2c33b507",
   "metadata": {},
   "source": [
    "# Discussion\n",
    "\n",
    "Summary of Results\n",
    "\n",
    "\n",
    "What do we expect to find?\n",
    "- With the help of a classification model, we expect to find a well-performing model that can predict the type of beans based on their roundness and area with high accuracy. On the visualization, we also expect to see a cluster for different types of bean in various colors.  \n",
    "\n",
    "What impact could such findings have?\n",
    "- This classification model can impact the food and agriculture industry. An automated system can be created to classifiy the type of bean based on their physical appearance. This is espcially useful when food and agriculture companies collect different types of beans together, dry them, and want to package them based on different types. The model we built can help to streamline the service, gain quality control and reduce the time for people to manually separate the beans. \n",
    "\n",
    "What future questions could this lead to?\n",
    "- Can other variables such as major axis length or the perimeter be good predictors of the type? And are they better predictors than roundness and area?\n",
    "- Can the classification model be used for different types of crops such as rice? "
   ]
  },
  {
   "cell_type": "markdown",
   "id": "d1dd2864",
   "metadata": {},
   "source": [
    "###### References:\n",
    "- Krzywinski, Martin, and Naomi Altman. \"Visualizing samples with box plots: use box plots to illustrate the spread and differences of samples.\" Nature Methods, vol. 11, no. 2, Feb. 2014, pp. 119+. Gale OneFile: Health and Medicine, link.gale.com/apps/doc/A361242515/HRCA?u=ubcolumbia&sid=bookmark-HRCA&xid=0db0fe06. Accessed 11 Mar. 2023.\n",
    "\n",
    "- Koklu, M., & Ozkan, I. A. (2020). Multiclass classification of dry beans using computer vision and machine learning techniques. Computers and Electronics in Agriculture, 174, 105507. https://doi.org/10.1016/j.compag.2020.105507"
   ]
  },
  {
   "cell_type": "code",
   "execution_count": null,
   "id": "c1fa7f7e-8a7e-43bd-b3cb-1f0e548e4d26",
   "metadata": {},
   "outputs": [],
   "source": []
  }
 ],
 "metadata": {
  "kernelspec": {
   "display_name": "R",
   "language": "R",
   "name": "ir"
  },
  "language_info": {
   "codemirror_mode": "r",
   "file_extension": ".r",
   "mimetype": "text/x-r-source",
   "name": "R",
   "pygments_lexer": "r",
   "version": "4.1.3"
  }
 },
 "nbformat": 4,
 "nbformat_minor": 5
}
